{
 "cells": [
  {
   "cell_type": "markdown",
   "id": "db7ed003-3088-48d4-a113-26e69b94a6d3",
   "metadata": {},
   "source": [
    "# Challenge 3\n",
    "\n",
    "## The rules:\n",
    "\n",
    "* You got to know some tools, and with these you should be able to solve the questions below.\n",
    "\n",
    "\n",
    "* The goal is to try and find out! If not everything is done, it will be ok.\n",
    "\n",
    "\n",
    "* Remember that there are manuals and help functions for each tool!\n",
    "\n",
    "\n",
    "* Google is explicitly allowed!\n",
    "\n",
    "\n",
    "* Helping each other and discussing is good practice as well.\n",
    "\n",
    "\n",
    "* Hand in your results on Moodle!\n"
   ]
  },
  {
   "cell_type": "markdown",
   "id": "e78fc882-7f45-41c0-8016-a2c848794280",
   "metadata": {},
   "source": [
    "## A)\n",
    "\n",
    "Here you find a new file to work with.\n",
    "\n",
    "These are unfiltered mapped reads (a proper `.bam` file). Use `samtools` to remove unmapped reads and reads with mapping quality lower than 30. Then *remove* duplicates. How many reads are there *before* and *after* filtering/duplicate removal? \n",
    "\n",
    "*Commands*\n",
    "\n",
    "*Numbers of reads*\n"
   ]
  },
  {
   "cell_type": "markdown",
   "id": "28b14072",
   "metadata": {},
   "source": [
    "## B)\n",
    "\n",
    "What is the coverage on the different chromosomes?\n",
    "\n",
    "*Command*\n",
    "\n",
    "*Coverage*\n"
   ]
  },
  {
   "cell_type": "markdown",
   "id": "4ca2e8ed",
   "metadata": {},
   "source": [
    "## C)\n",
    "\n",
    "Call the genotypes on the chromosome with the high coverage! The result should be a `GVCF` file following the [GATK definition](https://gatk.broadinstitute.org/hc/en-us/articles/360035531812-GVCF-Genomic-Variant-Call-Format) (meaning not basepair-resolution!).\n",
    "\n",
    "How many heterozygous positions are there? What is the ratio of transitions to transversions in the SNPs?\n",
    "\n",
    "*Commands*\n",
    "\n",
    "*Number of heterozygous positions, TS/TV ratio*\n"
   ]
  },
  {
   "cell_type": "markdown",
   "id": "ec3fbd12",
   "metadata": {},
   "source": [
    "# "
   ]
  }
 ],
 "metadata": {
  "kernelspec": {
   "display_name": "Python 3 (ipykernel)",
   "language": "python",
   "name": "python3"
  },
  "language_info": {
   "codemirror_mode": {
    "name": "ipython",
    "version": 3
   },
   "file_extension": ".py",
   "mimetype": "text/x-python",
   "name": "python",
   "nbconvert_exporter": "python",
   "pygments_lexer": "ipython3",
   "version": "3.8.13"
  }
 },
 "nbformat": 4,
 "nbformat_minor": 5
}
