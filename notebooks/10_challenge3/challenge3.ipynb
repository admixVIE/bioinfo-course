{
 "cells": [
  {
   "cell_type": "markdown",
   "id": "db7ed003-3088-48d4-a113-26e69b94a6d3",
   "metadata": {},
   "source": [
    "# Challenge 3\n",
    "\n",
    "## The rules:\n",
    "\n",
    "* You got to know some tools, and with these you should be able to solve the questions below.\n",
    "\n",
    "\n",
    "* Remember that there are manuals and help functions for each tool!\n",
    "\n",
    "\n",
    "* Google is explicitly allowed!\n",
    "\n",
    "\n",
    "* Helping each other and discussing is good practice as well.\n",
    "\n",
    "\n",
    "* Hand in your results on Moodle!\n"
   ]
  },
  {
   "cell_type": "markdown",
   "id": "e78fc882-7f45-41c0-8016-a2c848794280",
   "metadata": {},
   "source": [
    "## A)\n",
    "\n",
    "Here you find a new file to work with: https://ucloud.univie.ac.at/index.php/s/2g4A3XNrk3morae/download\n",
    "\n",
    "It is a bit bigger than previous files, so processes may take a bit more time, but everything should be feasible. Best is to create a new directory before processing.\n",
    "\n",
    "These are unfiltered mapped reads (a proper `.bam` file). Use `samtools` to <u>remove unmapped reads</u> and <u>reads with mapping quality lower than 30</u>. Then <u>remove duplicates</u>. How many reads are there before and after filtering? Does this look like a good sample?\n",
    "\n",
    "*Commands*\n",
    "\n",
    "*Numbers of reads*\n",
    "\n",
    "*Is it a good sample? Why?*\n"
   ]
  },
  {
   "cell_type": "markdown",
   "id": "28b14072",
   "metadata": {},
   "source": [
    "## B)\n",
    "\n",
    "What is the coverage for chromosome 1, chromosomes X and Y?  Could you tell from this if here we have data from a (genetically) male or female individual? One chromosome has a relatively high coverage - which one?\n",
    "\n",
    "*Command*\n",
    "\n",
    "*Coverage values*\n"
   ]
  },
  {
   "cell_type": "markdown",
   "id": "4ca2e8ed",
   "metadata": {},
   "source": [
    "## C)\n",
    "\n",
    "Call the genotypes only on part of the chromosome with the high coverage!\n",
    "\n",
    "* This should not only be the SNPs, but also not all basepair-resolution, instead <u>\"genomic VCF\"</u> file following the [GATK definition](https://gatk.broadinstitute.org/hc/en-us/articles/360035531812-GVCF-Genomic-Variant-Call-Format).\n",
    "\n",
    "* The whole chromosome took ~15 minutes when I tested it, but it might take even longer during the challenge. Hence, <u>restrict it to the interval 1-25000000</u> on this chromosome! (Please also report how long it took.)\n",
    "\n",
    "How many lines with genotype data does the output file have?\n",
    "\n",
    "How many heterozygous and homozygous alternative positions are there?\n",
    "\n",
    "What is the ratio of transitions to transversions in the SNPs? Is this a reasonable value?\n",
    "\n",
    "*Commands*\n",
    "\n",
    "*Number of lines, heterozygous/homozygous positions, Ts/Tv ratio*\n"
   ]
  }
 ],
 "metadata": {
  "kernelspec": {
   "display_name": "Python 3 (ipykernel)",
   "language": "python",
   "name": "python3"
  },
  "language_info": {
   "codemirror_mode": {
    "name": "ipython",
    "version": 3
   },
   "file_extension": ".py",
   "mimetype": "text/x-python",
   "name": "python",
   "nbconvert_exporter": "python",
   "pygments_lexer": "ipython3",
   "version": "3.8.13"
  }
 },
 "nbformat": 4,
 "nbformat_minor": 5
}
