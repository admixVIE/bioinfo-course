{
 "cells": [
  {
   "cell_type": "markdown",
   "id": "db7ed003-3088-48d4-a113-26e69b94a6d3",
   "metadata": {},
   "source": [
    "# Recap\n",
    "\n",
    "### `--help`! (& googling)\n",
    "\n",
    "Navigation, data, command line tools: `cd `, `ls` , `|` `>`, `grep`, `awk` etc.\n",
    "\n",
    "**Don't forget to update the *bioinfo-course* directory!**\n",
    "\n",
    "**Do not work in the *bioinfo-course* directory!**\n",
    "\n",
    "Genome data: fasta format `.fa.gz` - header, sequence (possibly many rows)\n",
    "\n",
    "Raw sequencing data: `.fastq.gz` format; remove adapters, fastQC\n",
    "\n",
    "Mapping: finding the spot in the reference genome, `bwa` program\n",
    "\n",
    "Removing duplications with `gatk MarkDuplicates`\n",
    "\n",
    "Mapped sequencing data: `.bam` format; analyse & filter with `samtools`\n",
    "\n",
    "Coverage summary with `mosdepth` program\n",
    "\n",
    "Genotype calling: how does my individual look like at each position of the genome? - `gatk HaplotypeCaller` program\n",
    "\n",
    "Variant Call Format: `.vcf.gz` files; analyse & filter with `bcftools` (`view`, `annotate`, `stats`)\n"
   ]
  },
  {
   "cell_type": "markdown",
   "id": "e78fc882-7f45-41c0-8016-a2c848794280",
   "metadata": {},
   "source": [
    "# Ok, now, let's go for the third Challenge!"
   ]
  },
  {
   "cell_type": "code",
   "execution_count": null,
   "id": "7fdbd3c6",
   "metadata": {},
   "outputs": [],
   "source": []
  }
 ],
 "metadata": {
  "kernelspec": {
   "display_name": "Python 3 (ipykernel)",
   "language": "python",
   "name": "python3"
  },
  "language_info": {
   "codemirror_mode": {
    "name": "ipython",
    "version": 3
   },
   "file_extension": ".py",
   "mimetype": "text/x-python",
   "name": "python",
   "nbconvert_exporter": "python",
   "pygments_lexer": "ipython3",
   "version": "3.8.13"
  }
 },
 "nbformat": 4,
 "nbformat_minor": 5
}
