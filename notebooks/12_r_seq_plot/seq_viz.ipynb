{
 "cells": [
  {
   "cell_type": "markdown",
   "id": "db7ed003-3088-48d4-a113-26e69b94a6d3",
   "metadata": {},
   "source": [
    "# Sequencing data visualization\n",
    "\n",
    "## Proportions of sequencing reads\n",
    "\n",
    "Assume you store information on your raw data in files. You have 10 sequencing experiments, and obtain values for\n",
    "\n",
    "* raw sequencing reads\n",
    "* reads after adapter removal\n",
    "* reads mapped\n",
    "* reads with sufficient quality (e.g. -m 35 -q 30)\n",
    "* reads after duplicate removal\n",
    "\n",
    "These proportions would tell you if something went wrong - and where it went wrong. A problem in library preparation may lead to high adapter abundance. DNA degradation may lead to small number of reads mapped, short reads or reads of low quality. PCR overamplification may lead to high numbers of duplicates, etc.\n",
    "\n",
    "For visualization, working in R is nice. RStudio does unfortunately not run on the server using the current platform, so we may work on the R command line interface:\n",
    "\n",
    "```\n",
    "R --vanilla\n",
    "```\n",
    "\n",
    "(test data)\n",
    "(proportions & plots)\n",
    "\n",
    "(vcf summaries - heterozygosity)\n",
    "\n"
   ]
  },
  {
   "cell_type": "markdown",
   "id": "ec3fbd12",
   "metadata": {},
   "source": [
    "# "
   ]
  }
 ],
 "metadata": {
  "kernelspec": {
   "display_name": "Python 3 (ipykernel)",
   "language": "python",
   "name": "python3"
  },
  "language_info": {
   "codemirror_mode": {
    "name": "ipython",
    "version": 3
   },
   "file_extension": ".py",
   "mimetype": "text/x-python",
   "name": "python",
   "nbconvert_exporter": "python",
   "pygments_lexer": "ipython3",
   "version": "3.10.12"
  }
 },
 "nbformat": 4,
 "nbformat_minor": 5
}
