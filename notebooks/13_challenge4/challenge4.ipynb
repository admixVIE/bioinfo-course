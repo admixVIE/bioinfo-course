{
 "cells": [
  {
   "cell_type": "markdown",
   "id": "db7ed003-3088-48d4-a113-26e69b94a6d3",
   "metadata": {},
   "source": [
    "# Challenge 4\n",
    "\n",
    "## The rules:\n",
    "\n",
    "* You got to know some tools, and with these you should be able to solve the questions below.\n",
    "\n",
    "\n",
    "* Remember that there are manuals and help functions for each tool!\n",
    "\n",
    "\n",
    "* Google is explicitly allowed!\n",
    "\n",
    "\n",
    "* Helping each other and discussing is good practice as well.\n",
    "\n",
    "\n",
    "* Hand in your results on Moodle!\n"
   ]
  },
  {
   "cell_type": "markdown",
   "id": "e78fc882-7f45-41c0-8016-a2c848794280",
   "metadata": {},
   "source": [
    "## A)\n",
    "\n",
    "(different multi-VCF subsetting - first awk from the list, then subset VCF file, then bcftools filtering)\n",
    "\n",
    "*Commands*\n",
    "\n",
    "**\n"
   ]
  },
  {
   "cell_type": "markdown",
   "id": "28b14072",
   "metadata": {},
   "source": [
    "## B)\n",
    "\n",
    "(create a table with info)\n",
    "\n",
    "\n",
    "*Command*\n",
    "\n",
    "*Problematic dataset and problem*\n"
   ]
  },
  {
   "cell_type": "markdown",
   "id": "4ca2e8ed",
   "metadata": {},
   "source": [
    "## C)\n",
    "\n",
    "(barplot with summaries)\n",
    "\n",
    "\n",
    "*Command*\n",
    "\n",
    "**"
   ]
  },
  {
   "cell_type": "markdown",
   "id": "ec3fbd12",
   "metadata": {},
   "source": [
    "# "
   ]
  },
  {
   "cell_type": "code",
   "execution_count": null,
   "id": "7fdbd3c6",
   "metadata": {},
   "outputs": [],
   "source": []
  }
 ],
 "metadata": {
  "kernelspec": {
   "display_name": "Python 3 (ipykernel)",
   "language": "python",
   "name": "python3"
  },
  "language_info": {
   "codemirror_mode": {
    "name": "ipython",
    "version": 3
   },
   "file_extension": ".py",
   "mimetype": "text/x-python",
   "name": "python",
   "nbconvert_exporter": "python",
   "pygments_lexer": "ipython3",
   "version": "3.10.12"
  }
 },
 "nbformat": 4,
 "nbformat_minor": 5
}
