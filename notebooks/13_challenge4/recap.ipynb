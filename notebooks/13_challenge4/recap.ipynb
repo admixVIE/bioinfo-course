{
 "cells": [
  {
   "cell_type": "markdown",
   "id": "db7ed003-3088-48d4-a113-26e69b94a6d3",
   "metadata": {},
   "source": [
    "# Recap\n",
    "\n",
    "### `--help`! (& googling)\n",
    "\n",
    "Command line - navigation and tools (`cd`,`grep` etc).\n",
    "\n",
    "Data formats (compressed):\n",
    "\n",
    "* `.fa.gz` (fasta) - genomes\n",
    "\n",
    "* `.fastq.gz` - raw sequencing data\n",
    "\n",
    "* `.bam` - sequencing data mapped to genome\n",
    "\n",
    "* `.vcf.gz` - variant call format, allele at each position\n",
    "\n",
    "Quality filtering:\n",
    "\n",
    "* Raw data: adapters\n",
    "\n",
    "* Mapped reads: unmapped reads, too short fragments, low quality fragments, duplicates\n",
    "\n",
    "* Variant calls: tri-allelic sites, InDels\n",
    "\n",
    "Large-scale data\n",
    "\n",
    "* Concatenating positions vs. merging individuals\n",
    "\n",
    "* 1000s of individuals in one genotype file\n",
    "\n",
    "* Subsetting with `bcftools view`, `bcftools filter` \n",
    "\n",
    "Visualising (for example in `R`):\n",
    "\n",
    "* QC of single sample, comparing samples\n",
    "\n",
    "* Proportions of reads with quality\n",
    "\n",
    "* Coverage distribution should look \"normal\" enough\n"
   ]
  },
  {
   "cell_type": "markdown",
   "id": "e78fc882-7f45-41c0-8016-a2c848794280",
   "metadata": {},
   "source": [
    "# Ok, now, let's go for the last Challenge!"
   ]
  },
  {
   "cell_type": "code",
   "execution_count": null,
   "id": "7fdbd3c6",
   "metadata": {},
   "outputs": [],
   "source": []
  }
 ],
 "metadata": {
  "kernelspec": {
   "display_name": "Python 3 (ipykernel)",
   "language": "python",
   "name": "python3"
  },
  "language_info": {
   "codemirror_mode": {
    "name": "ipython",
    "version": 3
   },
   "file_extension": ".py",
   "mimetype": "text/x-python",
   "name": "python",
   "nbconvert_exporter": "python",
   "pygments_lexer": "ipython3",
   "version": "3.10.12"
  }
 },
 "nbformat": 4,
 "nbformat_minor": 5
}
