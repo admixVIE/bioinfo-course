{
 "cells": [
  {
   "cell_type": "markdown",
   "id": "32d48224",
   "metadata": {},
   "source": [
    "# Command line tools\n",
    "\n",
    "## Navigation\n",
    "\n",
    "`cd`, `ls`, `mv`, `cp`, `pwd`\n",
    "\n",
    "\n",
    "## Access files\n",
    "\n",
    "`less`, `cat`, `wc`, `head`\n",
    "\n",
    "\n",
    "Use pipes `|` for pipelines, and `>` to redirect the output into a file.\n",
    "\n",
    "\n",
    "## Modify files\n",
    "\n",
    "`grep`, `cut`, `sort`\n",
    "\n",
    "## Compression\n",
    "\n",
    "tar/gzip, binary files\n",
    "\n",
    "`zless`, `zcat`, `zgrep`\n",
    "\n",
    "\n",
    "## awk\n",
    "\n",
    "`awk 'search-pattern==\"pattern\" {output}' input`\n",
    "\n",
    "E.g. `awk '$2==\"apple\" {print $0 }' fileA.txt`, so column 2 should be \"apple\", and the whole line (\"$0\") should be printed.\n",
    "\n",
    "## Use Google! Use --help!"
   ]
  },
  {
   "cell_type": "markdown",
   "id": "baee3fee",
   "metadata": {},
   "source": [
    "# Sequencing data\n",
    "\n",
    "## Mapping\n",
    "\n",
    "`bwa mem`\n",
    "\n",
    "## Using BAM (SAM) files\n",
    "\n",
    "`samtools view` - show the content\n",
    "\n",
    "`samtools stats` - calculate statistics\n",
    "\n",
    "`samtools sort` - sort the alignments\n",
    "\n",
    "`samtools index` - create index\n",
    "\n",
    "## Genotype calling to get VCF files\n",
    "\n",
    "`gatk HaplotypeCaller -R reference.fa -I input.bam -O output.vcf.gz`\n",
    "\n"
   ]
  },
  {
   "cell_type": "code",
   "execution_count": null,
   "id": "575c68c0",
   "metadata": {},
   "outputs": [],
   "source": []
  }
 ],
 "metadata": {
  "kernelspec": {
   "display_name": "Python 3 (ipykernel)",
   "language": "python",
   "name": "python3"
  },
  "language_info": {
   "codemirror_mode": {
    "name": "ipython",
    "version": 3
   },
   "file_extension": ".py",
   "mimetype": "text/x-python",
   "name": "python",
   "nbconvert_exporter": "python",
   "pygments_lexer": "ipython3",
   "version": "3.8.13"
  }
 },
 "nbformat": 4,
 "nbformat_minor": 5
}
