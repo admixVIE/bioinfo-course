{
 "cells": [
  {
   "cell_type": "markdown",
   "id": "f6be7b97",
   "metadata": {},
   "source": [
    "# Now, we go for our first challenge!\n",
    "\n",
    "## The rules:\n",
    "\n",
    "* You got to know some tools, and with these you should be able to solve the questions below.\n",
    "\n",
    "\n",
    "* The goal is to try and find out! If not everything is done, it will be ok.\n",
    "\n",
    "\n",
    "* Remember that there are manuals and help functions for each tool!\n",
    "\n",
    "\n",
    "* Google is explicitly allowed!\n",
    "\n",
    "\n",
    "* Helping each other and discussing is good practice as well.\n",
    "\n",
    "\n",
    "* Hand in your results on Moodle!\n",
    "\n",
    "\n",
    "Now, here is a file, in the vcf format. You should perform some tasks and report how you did it and what you observed.\n",
    "\n",
    "```\n",
    "ls testset.filtered.vcf.gz\n",
    "```\n"
   ]
  },
  {
   "cell_type": "markdown",
   "id": "cb3839f3",
   "metadata": {},
   "source": [
    "## A)\n",
    "\n",
    "Uncalled positions are defined as \"./.\"\n",
    "\n",
    "Are there such positions in this file?\n",
    "\n",
    "**Result**: \"yes\" or \"no\" - and how do you know (command)?\n"
   ]
  },
  {
   "cell_type": "markdown",
   "id": "62f05bb9",
   "metadata": {},
   "source": [
    "## B)\n",
    "\n",
    "If there are missing positions, create a file without missing data! How many positions are left?\n",
    "\n",
    "**Result**: command to create the file, number of positions left.\n"
   ]
  },
  {
   "cell_type": "markdown",
   "id": "a4e7337a",
   "metadata": {},
   "source": [
    "## C)\n",
    "\n",
    "Performing an analysis task: Count how many heterozygous sites does each individual have?\n",
    "\n",
    "You may create a small table manually to make it easy.\n",
    "\n",
    "What do you observe?\n",
    "\n",
    "If all individuals are difficult to do, try doing it for one or two (take \"Nean\" and \"NA07056\")!\n",
    "\n",
    "**Result**: command to solve this task, and table/list/text with numbers of sites per individual.\n"
   ]
  },
  {
   "cell_type": "markdown",
   "id": "2134394d",
   "metadata": {},
   "source": [
    "## D)\n",
    "\n",
    "How many C>T mutations does do we see in \"DenisovaPinky\"? You may count both homozygous and heterozygous, or all together.\n",
    "\n",
    "**Result**: command to get this information, up to three numbers.\n",
    "\n"
   ]
  },
  {
   "cell_type": "markdown",
   "id": "32ae6396",
   "metadata": {},
   "source": [
    "## E)\n",
    "\n",
    "AltaiNea and DenisovaPinky are archaic hominins. Subset the file to only modern human individuals! Make sure the file is in the correct format.\n",
    "\n",
    "**Result**: command to solve this task."
   ]
  },
  {
   "cell_type": "code",
   "execution_count": null,
   "id": "2de4b5b1",
   "metadata": {},
   "outputs": [],
   "source": []
  }
 ],
 "metadata": {
  "kernelspec": {
   "display_name": "Python 3 (ipykernel)",
   "language": "python",
   "name": "python3"
  },
  "language_info": {
   "codemirror_mode": {
    "name": "ipython",
    "version": 3
   },
   "file_extension": ".py",
   "mimetype": "text/x-python",
   "name": "python",
   "nbconvert_exporter": "python",
   "pygments_lexer": "ipython3",
   "version": "3.8.13"
  }
 },
 "nbformat": 4,
 "nbformat_minor": 5
}
