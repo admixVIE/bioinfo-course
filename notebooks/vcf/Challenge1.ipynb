{
 "cells": [
  {
   "cell_type": "markdown",
   "id": "527035cc",
   "metadata": {},
   "source": [
    "\n",
    "(MK:\n",
    "- create file with individual names\n",
    "- modify file: no \"|\", only 0/1s\n",
    "- create real summary stats\n",
    "\n",
    "(sstar vcf file)\n",
    "\n",
    "With the tools we got to know, we should be able to solve these questions. Google is explicitly allowed. Remember that there are manuals and help functions for each tool.\n",
    "\n",
    "A) Are there positions with missing data (\"./.\")?\n",
    "\n",
    "B) If so, create a file without missing data.\n",
    "\n",
    "C) How many heterozygous and homozygous derived sites does each individual have?\n",
    " (or: just NA07056 and Nean)\n",
    "\n",
    "D) How many C>T mutations does do we see in \"DenisovaPinky\" (either homozygous or heterozygous)?\n",
    "\n",
    "E) Subset the file to only modern individuals (no Nean and DenisovaPinky).\n"
   ]
  }
 ],
 "metadata": {
  "kernelspec": {
   "display_name": "Python 3 (ipykernel)",
   "language": "python",
   "name": "python3"
  },
  "language_info": {
   "codemirror_mode": {
    "name": "ipython",
    "version": 3
   },
   "file_extension": ".py",
   "mimetype": "text/x-python",
   "name": "python",
   "nbconvert_exporter": "python",
   "pygments_lexer": "ipython3",
   "version": "3.8.13"
  }
 },
 "nbformat": 4,
 "nbformat_minor": 5
}
