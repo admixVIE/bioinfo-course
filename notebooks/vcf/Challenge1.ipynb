{
 "cells": [
  {
   "cell_type": "markdown",
   "id": "16da9a7f",
   "metadata": {},
   "source": [
    "# Now, we go for our first challenge!\n",
    "\n",
    "## The rules:\n",
    "\n",
    "* You got to know some tools, and with these you should be able to solve the questions below.\n",
    "\n",
    "\n",
    "* The goal is to try and find out! If not everything is done, it will be ok.\n",
    "\n",
    "\n",
    "* Remember that there are manuals and help functions for each tool!\n",
    "\n",
    "\n",
    "* Google is explicitly allowed!\n",
    "\n",
    "\n",
    "* Helping each other and discussing is good practice as well.\n",
    "\n",
    "\n",
    "* Hand in your results on Moodle!\n",
    "\n",
    "\n",
    "Now, here is a file, in the vcf format. You should perform some tasks and report how you did it and what you observed.\n",
    "\n",
    "\n",
    "(MK:\n",
    "- create file with individual names\n",
    "- modify file: no \"|\", only 0/1s\n",
    "- create real summary stats\n",
    "\n",
    "(sstar vcf file)\n",
    "\n"
   ]
  },
  {
   "cell_type": "markdown",
   "id": "df6bf229",
   "metadata": {},
   "source": [
    "## A)\n",
    "\n",
    "Missing data is defined as \"./.\"\n",
    "\n",
    "Are there such positions in this file?\n",
    "\n",
    "**Result**: \"yes\" or \"no\".\n"
   ]
  },
  {
   "cell_type": "markdown",
   "id": "fd2155cc",
   "metadata": {},
   "source": [
    "## B)\n",
    "\n",
    "If there are missing positions, create a file without missing data!\n",
    "\n",
    "**Result**: command to create the file.\n"
   ]
  },
  {
   "cell_type": "markdown",
   "id": "f5e550ff",
   "metadata": {},
   "source": [
    "## C)\n",
    "\n",
    "Performing an analysis task: Count how many heterozygous and homozygous alternative sites does each individual have?\n",
    "\n",
    "You may create a small table manually if that is easier.\n",
    "\n",
    "What do you observe?\n",
    "\n",
    "If all individuals are difficult to do, try doing it for one or two (Nean and NA07056)!\n",
    "\n",
    "**Result**: command to solve this task, and table/list/text with numbers of sites per individual.\n"
   ]
  },
  {
   "cell_type": "markdown",
   "id": "d4f6bbcd",
   "metadata": {},
   "source": [
    "## D)\n",
    "\n",
    "How many C>T mutations does do we see in \"DenisovaPinky\"? You may count both homozygous and heterozygous, or all together.\n",
    "\n",
    "**Result**: command to get this information, up to three numbers.\n",
    "\n"
   ]
  },
  {
   "cell_type": "markdown",
   "id": "73c0d8f7",
   "metadata": {},
   "source": [
    "## E)\n",
    "\n",
    "Nean and DenisovaPinky are archaic hominins. Subset the file to only modern individuals! Make sure the file is in the correct format.\n",
    "\n",
    "**Result**: command to solve this task."
   ]
  },
  {
   "cell_type": "code",
   "execution_count": null,
   "id": "edcd6254",
   "metadata": {},
   "outputs": [],
   "source": []
  }
 ],
 "metadata": {
  "kernelspec": {
   "display_name": "Python 3 (ipykernel)",
   "language": "python",
   "name": "python3"
  },
  "language_info": {
   "codemirror_mode": {
    "name": "ipython",
    "version": 3
   },
   "file_extension": ".py",
   "mimetype": "text/x-python",
   "name": "python",
   "nbconvert_exporter": "python",
   "pygments_lexer": "ipython3",
   "version": "3.8.13"
  }
 },
 "nbformat": 4,
 "nbformat_minor": 5
}
