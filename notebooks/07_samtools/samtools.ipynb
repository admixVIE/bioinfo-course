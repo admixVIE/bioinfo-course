{
 "cells": [
  {
   "cell_type": "markdown",
   "id": "db7ed003-3088-48d4-a113-26e69b94a6d3",
   "metadata": {},
   "source": [
    "# Recap\n",
    "\n",
    "\n",
    "Raw sequencing data: `.fastq` format \n",
    "\n",
    "Removing adapters: `TRIMMOMATIC`\n",
    "\n",
    "Mapping: `bwa` sequencing data to `.bam`  format \n",
    "\n",
    "`samtools` program\n",
    "\n",
    "`samtools view` - look at (binary) file\n",
    "\n",
    "`samtools sort` - nicely sort reads along the chromosomes\n",
    "\n",
    "`samtools index` - create an index file\n",
    "\n",
    "`samtools stats` - create statistics for `.bam` file\n"
   ]
  },
  {
   "cell_type": "markdown",
   "id": "fe2baab7-7988-481e-9893-a10ed5d83de0",
   "metadata": {},
   "source": [
    " # Now: More to do with samtools\n",
    "\n",
    "We can use `samtools` to do quality filtering. Assume you want to only keep reads with an insert size of at least 35 base pairs (why would that be the case?) and a mapping quality score of at least 25. Then, the way to go is:\n",
    "\n",
    "```\n",
    "samtools view -m 35 -q 25 test.sorted.bam\n",
    "```\n",
    "\n",
    "Now, count the number of reads, and compare to the unfiltered number of reads. What do you observe?\n",
    "\n",
    "How about using `samtools view -c`?\n",
    "\n",
    "\n",
    "```\n",
    "samtools merge -f\n",
    "```\n",
    " \n",
    " \n",
    " samtools tview -p 1:62293226\n",
    " \n",
    "  samtools rmdup\n",
    "\n"
   ]
  },
  {
   "cell_type": "markdown",
   "id": "e78fc882-7f45-41c0-8016-a2c848794280",
   "metadata": {},
   "source": [
    "# Let's have a look at the coverage "
   ]
  },
  {
   "cell_type": "markdown",
   "id": "c80cb124",
   "metadata": {},
   "source": [
    "#\n"
   ]
  }
 ],
 "metadata": {
  "kernelspec": {
   "display_name": "Python 3 (ipykernel)",
   "language": "python",
   "name": "python3"
  },
  "language_info": {
   "codemirror_mode": {
    "name": "ipython",
    "version": 3
   },
   "file_extension": ".py",
   "mimetype": "text/x-python",
   "name": "python",
   "nbconvert_exporter": "python",
   "pygments_lexer": "ipython3",
   "version": "3.8.13"
  }
 },
 "nbformat": 4,
 "nbformat_minor": 5
}
