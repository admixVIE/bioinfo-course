{
 "cells": [
  {
   "cell_type": "markdown",
   "id": "708b0f64",
   "metadata": {},
   "source": [
    "# Recap\n",
    "\n",
    "Data comes in different formats: `.fa.gz` for genomes, `.fastq.gz` for raw reads, `.bam` for mapped reads, `.vcf.gz` for genotype calls.\n",
    "\n",
    "* Format means that specific elements are expected in a specific order.\n",
    "* Reference genomes have different versions - always know which one you use!\n",
    "\n",
    "Command line tools to filter, specialised tools for such data: `samtools` for mapped reads, `gatk MarkDuplicates` for filtering, `gatk HaplotypeCaller` for genotype calling.\n",
    "\n",
    "Variant calls can be for all basepairs, for only SNPs, or in a condensed genome-wide format (\"gvcf\") - but all based on the convention of the `VCF` file format. `VCF` files can be for many individuals.\n",
    "\n",
    "One important toolkit to work with the files is `bcftools`.\n",
    "\n",
    "`bcftools concat` to add rows (genomic positions for the same individuals), `bcftools merge` to add columns (individuals for the same positions)\n",
    "\n",
    "`bcftools view -r ` to obtain regions\n",
    "\n",
    "`bcftools view -S ` to obtain individuals\n",
    "\n",
    "`bcftools view -a ` to trim alleles\n",
    "\n",
    "`bcftools filter` to perform a lot of filtering\n",
    "\n",
    "Now for something slightly different. We have looked at sequencing data, and often we obtain numbers. It is always a good idea to visualise some of this. How do you do this from the command line (assuming you are not on your laptop but a remote server)?\n"
   ]
  },
  {
   "cell_type": "markdown",
   "id": "db7ed003-3088-48d4-a113-26e69b94a6d3",
   "metadata": {},
   "source": [
    "# Some data visualisation\n",
    "\n",
    "## Proportions of sequencing reads\n",
    "\n",
    "Assume you store information on your raw data in files. You have 20 sequencing experiments, and obtain values for\n",
    "\n",
    "* raw sequencing reads\n",
    "* reads after adapter removal\n",
    "* reads mapped\n",
    "* reads with sufficient quality (e.g. -m 35 -q 30)\n",
    "* reads after duplicate removal\n",
    "\n",
    "These proportions would tell you if something went wrong - and where it went wrong. A problem in library preparation may lead to high adapter abundance. DNA degradation may lead to small number of reads mapped, short reads or reads of low quality. PCR overamplification may lead to high numbers of duplicates, etc. It might be useful to look at this visually to check what is going on.\n",
    "\n",
    "Here is a table with the values: `~/bioinfo-course/notebooks/12_seq_viz/data/seqdata_summary.tsv`\n",
    "\n",
    "For visualization, working in R is nice. RStudio does unfortunately not run on the server using the current platform, so we may work on the R command line interface:\n",
    "\n",
    "```\n",
    "R --vanilla\n",
    "```\n",
    "\n",
    "Now we load the table:\n",
    "\n",
    "```\n",
    "seqdata<-read.table(\"~/bioinfo-course/notebooks/12_seq_viz/data/seqdata_summary.tsv\", sep=\"\\t\",header=T,as.is=T)\n",
    "```\n",
    "\n",
    "A first thing is to get the proportions of reads retained, not calculating one by one, but at once.\n",
    "\n",
    "```\n",
    "tbd\n",
    "```\n",
    "\n",
    "As you may see, there are problematic samples around. Some might be ancient DNA, some might be degraded, some might be overamplified with a PCR.\n",
    "\n",
    "* Let's visualise it.\n",
    "\n",
    "```\n",
    "plot tbd\n",
    "```\n",
    "\n",
    "As you can see, there are samples that visually stick out at different points. Assume this is a screening, where you want to know for a couple of samples how good they work for sequencing, you can choose which ones to continue with! This is very nice!\n"
   ]
  },
  {
   "cell_type": "markdown",
   "id": "87e4427b",
   "metadata": {},
   "source": [
    "## Coverage distribution\n",
    "\n",
    "```\n",
    "tbd\n",
    "```\n"
   ]
  },
  {
   "cell_type": "markdown",
   "id": "ec3fbd12",
   "metadata": {},
   "source": [
    "## Heterozygosity\n",
    "\n",
    "Now, we may take the 1000 genomes vcf file, and obtain heterozygous positions:\n",
    "\n",
    "```\n",
    "tbd\n",
    "```\n",
    "\n",
    "Note that you operate in `bash` to run certain analyses, and in `R` to visualise. These are different environments!\n",
    "\n",
    "* Let's plot the results!\n",
    "\n",
    "```\n",
    "tbd\n",
    "```\n",
    "\n"
   ]
  }
 ],
 "metadata": {
  "kernelspec": {
   "display_name": "Python 3 (ipykernel)",
   "language": "python",
   "name": "python3"
  },
  "language_info": {
   "codemirror_mode": {
    "name": "ipython",
    "version": 3
   },
   "file_extension": ".py",
   "mimetype": "text/x-python",
   "name": "python",
   "nbconvert_exporter": "python",
   "pygments_lexer": "ipython3",
   "version": "3.8.13"
  }
 },
 "nbformat": 4,
 "nbformat_minor": 5
}
