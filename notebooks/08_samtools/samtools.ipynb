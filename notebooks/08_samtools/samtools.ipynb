{
 "cells": [
  {
   "cell_type": "markdown",
   "id": "db7ed003-3088-48d4-a113-26e69b94a6d3",
   "metadata": {},
   "source": [
    "# Recap\n",
    "\n",
    "\n",
    "Raw sequencing data: `.fastq` format \n",
    "\n",
    "Removing adapters: `TRIMMOMATIC`\n",
    "\n",
    "Mapping: `bwa` sequencing data to `.bam`  format \n",
    "\n",
    "`samtools` program\n",
    "\n",
    "`samtools view` - look at (binary) file\n",
    "\n",
    "`samtools sort` - nicely sort reads along the chromosomes\n",
    "\n",
    "`samtools index` - create an index file\n",
    "\n",
    "`samtools stats` - create statistics for `.bam` file\n"
   ]
  },
  {
   "cell_type": "markdown",
   "id": "fe2baab7-7988-481e-9893-a10ed5d83de0",
   "metadata": {},
   "source": [
    "# Now: More to do with samtools\n",
    "\n",
    "## Quality filtering\n",
    "We can use `samtools` to do quality filtering. Assume you want to only keep reads with an insert size of at least 35 base pairs (why would that be the case?) and a mapping quality score of at least 25. Then, the way to go is:\n",
    "\n",
    "```\n",
    "samtools view -m 35 -q 25 test.sorted.bam\n",
    "```\n",
    "\n",
    "Now, count the number of reads, and compare to the unfiltered number of reads. What do you observe?\n",
    "\n",
    "How about using `samtools view -c`?\n",
    "\n",
    "## Merging\n",
    "\n",
    "Often, you will have sequencing data from different sequencing runs. Usually, you want to treat each of them separately for adapter cutting, mapping and QC, but merge them for downstream analyses. Just adding one file at the end of the other, however, may lead to problems, considering that there are headers and metadata and stuff. `samtools` has a nice function to deal with this and create proper merged datasets.\n",
    "\n",
    "```\n",
    "samtools merge -o test.merged.bam test.sorted.bam test3.sorted.bam \n",
    "samtools index test.merged.bam \n",
    "```\n",
    "\n",
    "This command will merge the two files. Obviously, in our case this is not a good idea because they do come from different data sources. So keep in mind that you should know what you are doing!\n",
    "\n",
    "\n",
    "## Looking\n",
    "\n",
    "Now, we can have a look at the data, e.g. just looking at the beginning of the sequencing data. `samtools` also lets you scroll through it, although you may not want to do this for the whole genome:\n",
    " \n",
    "```\n",
    "samtools tview -p chr1:10000 test.merged.bam \n",
    "```\n"
   ]
  },
  {
   "cell_type": "markdown",
   "id": "a8ea70b1",
   "metadata": {},
   "source": [
    "# Duplicates\n",
    "\n",
    "For sequencing, during library preparation, there is a PCR step, leading to the occurrence of some PCR duplicates in the data. This is not biologically meaningful data, so one may want to remove them. There are different strategies, some just mark them in the data but leave it there, while others straightforward remove them.\n",
    "One of the tools for this purpose is the GenomeAnalysisToolKit (GATK): `gatk MarkDuplicates`. We will work more with this toolkit later on. It is the main toolkit for many tasks related to genetic data, and knowing the duplicates is an important feature.\n",
    "\n",
    "```\n",
    "gatk MarkDuplicates -I test3.sorted.bam -O test3.markdup.sorted.bam -M metrics.txt\n",
    "```\n",
    "\n",
    "What happened to the data? Let's inspect the metrics file!\n",
    "\n",
    "Now, let's try the following:\n",
    "\n",
    "```\n",
    "gatk MarkDuplicates --REMOVE_DUPLICATES -I test3.sorted.bam -O test3.rmdup.sorted.bam -M metrics2.txt\n",
    "```\n"
   ]
  },
  {
   "cell_type": "markdown",
   "id": "e78fc882-7f45-41c0-8016-a2c848794280",
   "metadata": {},
   "source": [
    "# Let's have a look at the coverage! \n",
    "\n",
    "Do:\n",
    "\n",
    "```\n",
    "mosdepth -x -n -f /home/local/ANTHROPOLOGY/kuhlwilmm83/refgen/hg19/hg19.p13.plusMT.no_alt_analysis_set.fa test3 test3.markdup.sorted.bam\n",
    "```\n",
    "\n",
    "What happens and why?\n",
    "\n",
    "Now we do it properly and inspect the output!\n",
    "\n",
    "Is this expected? What does it tell about the necessary data in such an experiment? We may calculate based on the size of the human genome.\n"
   ]
  },
  {
   "cell_type": "markdown",
   "id": "c80cb124",
   "metadata": {},
   "source": [
    "# Something on ancient DNA\n",
    "\n",
    "Let's compare the statistics for modern vs. ancient DNA!\n",
    "\n",
    "The data for test3.* is from a modern individual.\n",
    "\n",
    "[Here](https://ucloud.univie.ac.at/index.php/s/4XSRnpreQxFC6KD) you find data from an ancient individual.\n",
    "\n",
    "* Download and inspect it!\n"
   ]
  },
  {
   "cell_type": "code",
   "execution_count": null,
   "id": "195a26ad",
   "metadata": {},
   "outputs": [],
   "source": []
  }
 ],
 "metadata": {
  "kernelspec": {
   "display_name": "Python 3 (ipykernel)",
   "language": "python",
   "name": "python3"
  },
  "language_info": {
   "codemirror_mode": {
    "name": "ipython",
    "version": 3
   },
   "file_extension": ".py",
   "mimetype": "text/x-python",
   "name": "python",
   "nbconvert_exporter": "python",
   "pygments_lexer": "ipython3",
   "version": "3.10.12"
  }
 },
 "nbformat": 4,
 "nbformat_minor": 5
}
