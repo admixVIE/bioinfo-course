{
 "cells": [
  {
   "attachments": {
    "image.png": {
     "image/png": "[encoded data removed]"
    }
   },
   "cell_type": "markdown",
   "id": "db7ed003-3088-48d4-a113-26e69b94a6d3",
   "metadata": {},
   "source": [
    "# Recap\n",
    "\n",
    "This is the terminal:\n",
    "![image.png](attachment:image.png)\n",
    "\n",
    "`--help` or `-h`\n",
    "\n",
    "Where am I?? \n",
    "\n",
    "`pwd`\n",
    "\n",
    "Navigation:\n",
    "\n",
    "`cd `, `ls`, `less`, `cat`, `wc`\n",
    "\n",
    "(re-)moving:\n",
    "\n",
    "`cp`, `mv`, `rm`\n",
    "\n",
    "**Loops:**\n",
    "\n",
    "`for` bla `in` range\n",
    "`do` command \n",
    "`done`\n",
    "\n",
    "**Subsetting:**\n",
    "\n",
    "`grep \"pattern\" file`\n",
    "`-v` - the opposite!\n",
    "\n",
    "`cut -f1-2 -d \" \" file`\n",
    "\n",
    "`awk 'pattern {subset}'` - complex subsetting\n",
    "\n",
    "`sort` for sorting and `uniq` for unique rows\n",
    "\n",
    "**Regular expressions:**\n",
    "\n",
    "Allows more complex patterns to be found. Within context of *pattern* parameters of programs such as `grep`.\n",
    "\n",
    "\n",
    "**Other things:**\n",
    "\n",
    "Piping: `|` hands over results from one command to another.\n",
    "\n",
    "Commands have *standard input* stream coming in, *standard output* going out, and *standard error* for messages.\n"
   ]
  },
  {
   "cell_type": "markdown",
   "id": "e78fc882-7f45-41c0-8016-a2c848794280",
   "metadata": {},
   "source": [
    "# Ok, now, let's go for the first Challenge!"
   ]
  },
  {
   "cell_type": "code",
   "execution_count": null,
   "id": "7fdbd3c6",
   "metadata": {},
   "outputs": [],
   "source": []
  }
 ],
 "metadata": {
  "kernelspec": {
   "display_name": "Python 3 (ipykernel)",
   "language": "python",
   "name": "python3"
  },
  "language_info": {
   "codemirror_mode": {
    "name": "ipython",
    "version": 3
   },
   "file_extension": ".py",
   "mimetype": "text/x-python",
   "name": "python",
   "nbconvert_exporter": "python",
   "pygments_lexer": "ipython3",
   "version": "3.8.13"
  }
 },
 "nbformat": 4,
 "nbformat_minor": 5
}
