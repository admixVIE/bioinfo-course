{
 "cells": [
  {
   "cell_type": "markdown",
   "id": "f6be7b97",
   "metadata": {},
   "source": [
    "# Challenge 1\n",
    "\n",
    "## The rules:\n",
    "\n",
    "* You got to know some tools, and with these you should be able to solve the questions below.\n",
    "\n",
    "\n",
    "* The goal is to try and find out! If not everything is done, it will be ok.\n",
    "\n",
    "\n",
    "* Remember that there are manuals and help functions for each tool!\n",
    "\n",
    "\n",
    "* Google is explicitly allowed!\n",
    "\n",
    "\n",
    "* Helping each other and discussing is good practice as well.\n",
    "\n",
    "\n",
    "* Hand in your results on Moodle!\n"
   ]
  },
  {
   "cell_type": "markdown",
   "id": "cb3839f3",
   "metadata": {},
   "source": [
    "## A)\n",
    "\n",
    "Now, there is a `fileC.txt`. It is a clean list of fruit, and it is denoted whether the boxes with fruit have fruitflies observed (`FF` if there are), and how many flies were found (numerical value).\n",
    "\n",
    "How many boxes do contain fruitflies?\n",
    "\n",
    "*Command*\n",
    "\n",
    "*Number of lines*\n"
   ]
  },
  {
   "cell_type": "markdown",
   "id": "2134394d",
   "metadata": {},
   "source": [
    "## B)\n",
    "\n",
    "Only boxes with more than 2 fruitflies are problematic. How many of such are there?\n",
    "\n",
    "*Command*\n",
    "\n",
    "*Number of lines*\n"
   ]
  },
  {
   "cell_type": "markdown",
   "id": "a4e7337a",
   "metadata": {},
   "source": [
    "## C)\n",
    "\n",
    "At the end of the first session, we downloaded a file.\n",
    "\n",
    "Do it again, and tell me how many lines the content of this file has!\n",
    "\n",
    "*Commands*\n",
    "\n",
    "*Number of lines*\n"
   ]
  },
  {
   "cell_type": "code",
   "execution_count": null,
   "id": "2de4b5b1",
   "metadata": {},
   "outputs": [],
   "source": []
  }
 ],
 "metadata": {
  "kernelspec": {
   "display_name": "Python 3 (ipykernel)",
   "language": "python",
   "name": "python3"
  },
  "language_info": {
   "codemirror_mode": {
    "name": "ipython",
    "version": 3
   },
   "file_extension": ".py",
   "mimetype": "text/x-python",
   "name": "python",
   "nbconvert_exporter": "python",
   "pygments_lexer": "ipython3",
   "version": "3.8.13"
  }
 },
 "nbformat": 4,
 "nbformat_minor": 5
}
