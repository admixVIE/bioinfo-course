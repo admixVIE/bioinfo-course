{
 "cells": [
  {
   "cell_type": "markdown",
   "id": "db7ed003-3088-48d4-a113-26e69b94a6d3",
   "metadata": {},
   "source": [
    "# Challenge 4\n",
    "\n",
    "## The rules:\n",
    "\n",
    "* You got to know some tools, and with these you should be able to solve the questions below.\n",
    "\n",
    "\n",
    "* The goal is to try and find out! If not everything is done, it will be ok. Most important is to show how you approach the question.\n",
    "\n",
    "\n",
    "* Remember that there are manuals and help functions for each tool!\n",
    "\n",
    "\n",
    "* We try real-world conditions: you can use any resource.\n",
    "\n",
    "\n",
    "* Hand in your results on Moodle!\n"
   ]
  },
  {
   "cell_type": "markdown",
   "id": "e78fc882-7f45-41c0-8016-a2c848794280",
   "metadata": {},
   "source": [
    "## A)\n",
    "\n",
    "We will work with the very same multi-VCF file from the 1000G project:\n",
    "\n",
    "`ALL.chr18.phase3_shapeit2_mvncall_integrated_v5b.20130502.genotypes.vcf.gz`\n",
    "\n",
    "Perform the following tasks:\n",
    "\n",
    "* Subset the file to SNPs between position 50000000 (50 million) to the end of chromosome 18.\n",
    "* Select all African individuals (AFR).\n",
    "* Restrict the dataset to polymorphic sites *only within* the AFR subset.\n",
    "* Restrict the dataset to only bi-allelic SNPs.\n",
    "\n",
    "Now tell me: \n",
    "\n",
    "* How many individuals are left?\n",
    "* How many SNPs are left?\n",
    "* How many G-to-A mutations are there?\n",
    "\n",
    "*Commands*\n",
    "\n",
    "*Number of individuals, SNPs, C>Ts*\n"
   ]
  },
  {
   "cell_type": "markdown",
   "id": "28b14072",
   "metadata": {},
   "source": [
    "## B)\n",
    "\n",
    "Get a table of the Allele Frequencies of this dataset (maybe with `bcftools`). (In case part A of this challenge did not conclude, use a VCF file from a previous session, e.g. `chr18.IBS.true_biallelic.snps.vcf.gz`)\n",
    "\n",
    "How many SNPs have more than 50% frequency (number and percentage)? Bonus point if everything solved in the Terminal (`bash`, `R`, `python` etc).\n",
    "\n",
    "What does this tell you about variants which are common in the population?\n",
    "\n",
    "*Commands*\n",
    "\n",
    "*Number & percentage of SNPs*\n"
   ]
  },
  {
   "cell_type": "code",
   "execution_count": null,
   "id": "7fdbd3c6",
   "metadata": {},
   "outputs": [],
   "source": []
  }
 ],
 "metadata": {
  "kernelspec": {
   "display_name": "Python 3 (ipykernel)",
   "language": "python",
   "name": "python3"
  },
  "language_info": {
   "codemirror_mode": {
    "name": "ipython",
    "version": 3
   },
   "file_extension": ".py",
   "mimetype": "text/x-python",
   "name": "python",
   "nbconvert_exporter": "python",
   "pygments_lexer": "ipython3",
   "version": "3.10.12"
  }
 },
 "nbformat": 4,
 "nbformat_minor": 5
}
