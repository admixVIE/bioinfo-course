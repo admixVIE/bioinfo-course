{
 "cells": [
  {
   "cell_type": "markdown",
   "id": "db7ed003-3088-48d4-a113-26e69b94a6d3",
   "metadata": {},
   "source": [
    "# Recap\n",
    "\n",
    "### `--help`! (& googling)\n",
    "\n",
    "*Ctrl-C Ctrl-V!* - TAB - Scrolling, Wildcard `*`\n",
    "\n",
    "Navigation in the file system: `cd `, `ls`  etc.\n",
    "\n",
    "Data streams, input, output: `|` `>` \n",
    "\n",
    "Command line tools: `grep`, `sort`, `awk` etc.\n",
    "\n",
    "Patterns & regular expressions: `==`, `>=`, `&&`, `[0-9]`, `^` etc.\n",
    "\n",
    "Genome data: fasta format `.fa` - header, sequence (possibly many rows)\n",
    "\n",
    "Raw sequencing data: `.fastq` format - header, sequence, spaceholder, quality scores (repeat of 4 rows)\n",
    "\n",
    "Adapters need to be removed; `fastQC` for quality check \n",
    "\n",
    "Mapping: finding the spot in the reference genome, `bwa` program\n",
    "\n",
    "Mapped sequencing data: `.sam` or rather `.bam` (compressed) format - several header rows, then one line per read - position, sequence, quality scores etc.\n",
    "\n",
    "Program to analyze: `samtools`\n"
   ]
  },
  {
   "cell_type": "markdown",
   "id": "e78fc882-7f45-41c0-8016-a2c848794280",
   "metadata": {},
   "source": [
    "# Ok, now, let's go for the second Challenge!"
   ]
  },
  {
   "cell_type": "code",
   "execution_count": null,
   "id": "7fdbd3c6",
   "metadata": {},
   "outputs": [],
   "source": []
  }
 ],
 "metadata": {
  "kernelspec": {
   "display_name": "Python 3 (ipykernel)",
   "language": "python",
   "name": "python3"
  },
  "language_info": {
   "codemirror_mode": {
    "name": "ipython",
    "version": 3
   },
   "file_extension": ".py",
   "mimetype": "text/x-python",
   "name": "python",
   "nbconvert_exporter": "python",
   "pygments_lexer": "ipython3",
   "version": "3.8.13"
  }
 },
 "nbformat": 4,
 "nbformat_minor": 5
}
