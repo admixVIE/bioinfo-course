{
 "cells": [
  {
   "cell_type": "markdown",
   "id": "db7ed003-3088-48d4-a113-26e69b94a6d3",
   "metadata": {},
   "source": [
    "# Challenge 2\n",
    "\n",
    "## The rules:\n",
    "\n",
    "* You got to know some tools, and with these you should be able to solve the questions below.\n",
    "\n",
    "\n",
    "* The goal is to try and find out! If not everything is done, it will be ok.\n",
    "\n",
    "\n",
    "* Remember that there are manuals and help functions for each tool!\n",
    "\n",
    "\n",
    "* Google is explicitly allowed!\n",
    "\n",
    "\n",
    "* Helping each other and discussing is good practice as well.\n",
    "\n",
    "\n",
    "* Hand in your results on Moodle!\n"
   ]
  },
  {
   "cell_type": "markdown",
   "id": "e78fc882-7f45-41c0-8016-a2c848794280",
   "metadata": {},
   "source": [
    "## A)\n",
    "\n",
    "Download and unpack a dataset located [here](https://ucloud.univie.ac.at/index.php/s/PRpgmDACQSikowr/download)!\n",
    "\n",
    "This will contain two raw sequencing files. Count the number of reads for each of them! Since you don't know if adapters are present, perform an adapter removal step. How many reads are left?\n",
    "\n",
    "*Commands*\n",
    "\n",
    "*Numbers of reads*\n"
   ]
  },
  {
   "cell_type": "markdown",
   "id": "28b14072",
   "metadata": {},
   "source": [
    "## B)\n",
    "\n",
    "Perform a fastQC analysis on these datasets. Is there a problem with one of them? Which dataset would you choose to continue working with?\n",
    "\n",
    "\n",
    "*Command*\n",
    "\n",
    "*Name of good dataset, problem in bad dataset*\n"
   ]
  },
  {
   "cell_type": "markdown",
   "id": "4ca2e8ed",
   "metadata": {},
   "source": [
    "## C)\n",
    "\n",
    "Perform a mapping of the \"good\" dataset to the human reference genome! Be aware of resource use - do *not* create an intermediate SAM file!\n",
    "\n",
    "\n",
    "*Command*\n"
   ]
  },
  {
   "cell_type": "markdown",
   "id": "c2d36575",
   "metadata": {},
   "source": [
    "## D)\n",
    "\n",
    "Gain some insights into the data: how many reads were mapped to the X and the Y chromosome? Is this data from a female or a male individual? How many reads were mapped in total, and what is the fraction of mapped reads?\n",
    "\n",
    "\n",
    "*Commands*\n",
    "\n",
    "*Number of reads on X/Y, sexing by inspection, mapped proportion*\n"
   ]
  },
  {
   "cell_type": "markdown",
   "id": "ec3fbd12",
   "metadata": {},
   "source": [
    "# "
   ]
  },
  {
   "cell_type": "code",
   "execution_count": null,
   "id": "7fdbd3c6",
   "metadata": {},
   "outputs": [],
   "source": []
  }
 ],
 "metadata": {
  "kernelspec": {
   "display_name": "Python 3 (ipykernel)",
   "language": "python",
   "name": "python3"
  },
  "language_info": {
   "codemirror_mode": {
    "name": "ipython",
    "version": 3
   },
   "file_extension": ".py",
   "mimetype": "text/x-python",
   "name": "python",
   "nbconvert_exporter": "python",
   "pygments_lexer": "ipython3",
   "version": "3.10.12"
  }
 },
 "nbformat": 4,
 "nbformat_minor": 5
}
