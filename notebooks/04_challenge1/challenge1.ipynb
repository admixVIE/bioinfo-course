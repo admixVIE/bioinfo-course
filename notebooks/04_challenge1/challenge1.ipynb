{
 "cells": [
  {
   "cell_type": "markdown",
   "id": "f6be7b97",
   "metadata": {},
   "source": [
    "# Challenge 1\n",
    "\n",
    "## The rules:\n",
    "\n",
    "* You got to know some tools, and with these you should be able to solve the questions below.\n",
    "\n",
    "\n",
    "* The goal is to try and find out! If not everything is done, it will be ok. Most important is to show how you approach the question.\n",
    "\n",
    "\n",
    "* Remember that there are manuals and help functions for each tool!\n",
    "\n",
    "\n",
    "* We try real-world conditions: you can use any resource.\n",
    "\n",
    "\n",
    "* Hand in your results on Moodle!\n"
   ]
  },
  {
   "cell_type": "markdown",
   "id": "cb3839f3",
   "metadata": {},
   "source": [
    "## A)\n",
    "\n",
    "Now, there is a `fileC.txt`. It is a clean list of fruit, and it is denoted whether the boxes with fruit have fruitflies observed (`FF` if there are), and how many flies were found (numerical value).\n",
    "\n",
    "How many boxes do contain fruitflies?\n",
    "\n",
    "*Command*\n",
    "\n",
    "*Number of lines*\n"
   ]
  },
  {
   "cell_type": "markdown",
   "id": "2134394d",
   "metadata": {},
   "source": [
    "## B)\n",
    "\n",
    "Only boxes with more than 2 fruitflies are problematic. How many of such are there?\n",
    "\n",
    "*Command*\n",
    "\n",
    "*Number of lines*\n"
   ]
  },
  {
   "cell_type": "markdown",
   "id": "a4e7337a",
   "metadata": {},
   "source": [
    "## C)\n",
    "\n",
    "At the end of the first session, we downloaded a `fasta` file. Now, we download another chromosome:\n",
    "\n",
    "`wget https://ftp.ensembl.org/pub/release-110/fasta/homo_sapiens/dna/Homo_sapiens.GRCh38.dna_sm.chromosome.22.fa.gz`\n",
    "\n",
    "Tell me:\n",
    "\n",
    "* How many lines are in the content of this file?\n",
    "\n",
    "* How many bases does this chromosome have?\n",
    "\n",
    "*Commands*\n",
    "\n",
    "*Number of lines & bases*\n"
   ]
  },
  {
   "cell_type": "code",
   "execution_count": null,
   "id": "3e00b192",
   "metadata": {},
   "outputs": [],
   "source": []
  }
 ],
 "metadata": {
  "kernelspec": {
   "display_name": "Python 3 (ipykernel)",
   "language": "python",
   "name": "python3"
  },
  "language_info": {
   "codemirror_mode": {
    "name": "ipython",
    "version": 3
   },
   "file_extension": ".py",
   "mimetype": "text/x-python",
   "name": "python",
   "nbconvert_exporter": "python",
   "pygments_lexer": "ipython3",
   "version": "3.8.13"
  }
 },
 "nbformat": 4,
 "nbformat_minor": 5
}
