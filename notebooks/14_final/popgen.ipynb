{
 "cells": [
  {
   "cell_type": "markdown",
   "id": "db7ed003-3088-48d4-a113-26e69b94a6d3",
   "metadata": {},
   "source": [
    "# Population genetics\n",
    "\n",
    "We already looked into the number of heterozygous sites per individuals. This is a proxy for diversity, and you can see the effect of the out-of-Africa bottleneck from relatively raw data.\n",
    "\n",
    "To conclude this course, I cannot give a comprehensive insight into PopGen, but I will show how you can make a PCA!\n",
    "(ref PCA; example from popgen paper)\n",
    "\n",
    "(R code)\n",
    "\n"
   ]
  },
  {
   "cell_type": "code",
   "execution_count": null,
   "id": "7fdbd3c6",
   "metadata": {},
   "outputs": [],
   "source": []
  }
 ],
 "metadata": {
  "kernelspec": {
   "display_name": "Python 3 (ipykernel)",
   "language": "python",
   "name": "python3"
  },
  "language_info": {
   "codemirror_mode": {
    "name": "ipython",
    "version": 3
   },
   "file_extension": ".py",
   "mimetype": "text/x-python",
   "name": "python",
   "nbconvert_exporter": "python",
   "pygments_lexer": "ipython3",
   "version": "3.8.13"
  }
 },
 "nbformat": 4,
 "nbformat_minor": 5
}
